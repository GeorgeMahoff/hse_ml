{
 "cells": [
  {
   "cell_type": "code",
   "execution_count": 2,
   "metadata": {
    "collapsed": false
   },
   "outputs": [],
   "source": [
    "import pandas\n",
    "import re\n",
    "import numpy as np\n",
    "import scipy as sp\n",
    "import sklearn.datasets\n",
    "from sklearn.tree import DecisionTreeClassifier\n",
    "from sklearn import preprocessing\n",
    "from sklearn.linear_model import Perceptron\n",
    "from sklearn.cross_validation import KFold, cross_val_score\n",
    "from sklearn.neighbors import KNeighborsClassifier, KNeighborsRegressor\n",
    "from operator import itemgetter\n",
    "from sklearn.svm import SVC\n",
    "from sklearn import metrics"
   ]
  },
  {
   "cell_type": "markdown",
   "metadata": {},
   "source": [
    "## Неделя 1"
   ]
  },
  {
   "cell_type": "markdown",
   "metadata": {},
   "source": [
    "#### Assignment 1"
   ]
  },
  {
   "cell_type": "code",
   "execution_count": 25,
   "metadata": {
    "collapsed": false
   },
   "outputs": [
    {
     "data": {
      "text/html": [
       "<div>\n",
       "<table border=\"1\" class=\"dataframe\">\n",
       "  <thead>\n",
       "    <tr style=\"text-align: right;\">\n",
       "      <th></th>\n",
       "      <th>Survived</th>\n",
       "      <th>Pclass</th>\n",
       "      <th>Name</th>\n",
       "      <th>Sex</th>\n",
       "      <th>Age</th>\n",
       "      <th>SibSp</th>\n",
       "      <th>Parch</th>\n",
       "      <th>Ticket</th>\n",
       "      <th>Fare</th>\n",
       "      <th>Cabin</th>\n",
       "      <th>Embarked</th>\n",
       "    </tr>\n",
       "    <tr>\n",
       "      <th>PassengerId</th>\n",
       "      <th></th>\n",
       "      <th></th>\n",
       "      <th></th>\n",
       "      <th></th>\n",
       "      <th></th>\n",
       "      <th></th>\n",
       "      <th></th>\n",
       "      <th></th>\n",
       "      <th></th>\n",
       "      <th></th>\n",
       "      <th></th>\n",
       "    </tr>\n",
       "  </thead>\n",
       "  <tbody>\n",
       "    <tr>\n",
       "      <th>1</th>\n",
       "      <td>0</td>\n",
       "      <td>3</td>\n",
       "      <td>Braund, Mr. Owen Harris</td>\n",
       "      <td>male</td>\n",
       "      <td>22</td>\n",
       "      <td>1</td>\n",
       "      <td>0</td>\n",
       "      <td>A/5 21171</td>\n",
       "      <td>7.2500</td>\n",
       "      <td>NaN</td>\n",
       "      <td>S</td>\n",
       "    </tr>\n",
       "    <tr>\n",
       "      <th>2</th>\n",
       "      <td>1</td>\n",
       "      <td>1</td>\n",
       "      <td>Cumings, Mrs. John Bradley (Florence Briggs Th...</td>\n",
       "      <td>female</td>\n",
       "      <td>38</td>\n",
       "      <td>1</td>\n",
       "      <td>0</td>\n",
       "      <td>PC 17599</td>\n",
       "      <td>71.2833</td>\n",
       "      <td>C85</td>\n",
       "      <td>C</td>\n",
       "    </tr>\n",
       "    <tr>\n",
       "      <th>3</th>\n",
       "      <td>1</td>\n",
       "      <td>3</td>\n",
       "      <td>Heikkinen, Miss. Laina</td>\n",
       "      <td>female</td>\n",
       "      <td>26</td>\n",
       "      <td>0</td>\n",
       "      <td>0</td>\n",
       "      <td>STON/O2. 3101282</td>\n",
       "      <td>7.9250</td>\n",
       "      <td>NaN</td>\n",
       "      <td>S</td>\n",
       "    </tr>\n",
       "    <tr>\n",
       "      <th>4</th>\n",
       "      <td>1</td>\n",
       "      <td>1</td>\n",
       "      <td>Futrelle, Mrs. Jacques Heath (Lily May Peel)</td>\n",
       "      <td>female</td>\n",
       "      <td>35</td>\n",
       "      <td>1</td>\n",
       "      <td>0</td>\n",
       "      <td>113803</td>\n",
       "      <td>53.1000</td>\n",
       "      <td>C123</td>\n",
       "      <td>S</td>\n",
       "    </tr>\n",
       "    <tr>\n",
       "      <th>5</th>\n",
       "      <td>0</td>\n",
       "      <td>3</td>\n",
       "      <td>Allen, Mr. William Henry</td>\n",
       "      <td>male</td>\n",
       "      <td>35</td>\n",
       "      <td>0</td>\n",
       "      <td>0</td>\n",
       "      <td>373450</td>\n",
       "      <td>8.0500</td>\n",
       "      <td>NaN</td>\n",
       "      <td>S</td>\n",
       "    </tr>\n",
       "  </tbody>\n",
       "</table>\n",
       "</div>"
      ],
      "text/plain": [
       "             Survived  Pclass  \\\n",
       "PassengerId                     \n",
       "1                   0       3   \n",
       "2                   1       1   \n",
       "3                   1       3   \n",
       "4                   1       1   \n",
       "5                   0       3   \n",
       "\n",
       "                                                          Name     Sex  Age  \\\n",
       "PassengerId                                                                   \n",
       "1                                      Braund, Mr. Owen Harris    male   22   \n",
       "2            Cumings, Mrs. John Bradley (Florence Briggs Th...  female   38   \n",
       "3                                       Heikkinen, Miss. Laina  female   26   \n",
       "4                 Futrelle, Mrs. Jacques Heath (Lily May Peel)  female   35   \n",
       "5                                     Allen, Mr. William Henry    male   35   \n",
       "\n",
       "             SibSp  Parch            Ticket     Fare Cabin Embarked  \n",
       "PassengerId                                                          \n",
       "1                1      0         A/5 21171   7.2500   NaN        S  \n",
       "2                1      0          PC 17599  71.2833   C85        C  \n",
       "3                0      0  STON/O2. 3101282   7.9250   NaN        S  \n",
       "4                1      0            113803  53.1000  C123        S  \n",
       "5                0      0            373450   8.0500   NaN        S  "
      ]
     },
     "execution_count": 25,
     "metadata": {},
     "output_type": "execute_result"
    }
   ],
   "source": [
    "data = pandas.read_csv('titanic.csv', index_col='PassengerId')\n",
    "data.head()"
   ]
  },
  {
   "cell_type": "code",
   "execution_count": null,
   "metadata": {
    "collapsed": false
   },
   "outputs": [],
   "source": [
    "data['Sex'].value_counts()"
   ]
  },
  {
   "cell_type": "code",
   "execution_count": null,
   "metadata": {
    "collapsed": false
   },
   "outputs": [],
   "source": [
    "print data['Survived'].value_counts()\n",
    "342./(549+342)*100"
   ]
  },
  {
   "cell_type": "code",
   "execution_count": null,
   "metadata": {
    "collapsed": false
   },
   "outputs": [],
   "source": [
    "print data['Pclass'].value_counts()\n",
    "216./(491+216+184)*100"
   ]
  },
  {
   "cell_type": "code",
   "execution_count": null,
   "metadata": {
    "collapsed": false
   },
   "outputs": [],
   "source": [
    "print data['Age'].mean()\n",
    "print data['Age'].median()"
   ]
  },
  {
   "cell_type": "code",
   "execution_count": null,
   "metadata": {
    "collapsed": false
   },
   "outputs": [],
   "source": [
    "data[['Parch','SibSp']].corr()"
   ]
  },
  {
   "cell_type": "code",
   "execution_count": null,
   "metadata": {
    "collapsed": false
   },
   "outputs": [],
   "source": [
    "names = data[data.Sex =='female']['Name'].tolist()\n",
    "names = np.array(names, dtype=pandas.Series)\n",
    "\n",
    "n = []\n",
    "for i in names:\n",
    "    n.append(re.findall('Miss. ([a-zA-Z]*)',i))\n",
    "    n.append(re.findall('\\(([a-zA-Z]*)',i))\n",
    "n = filter(None, n)\n",
    "dic = {}\n",
    "for i in n:\n",
    "    for j in i:\n",
    "        if not j in dic:\n",
    "            dic[j] = 1\n",
    "        else:\n",
    "            dic[j] += 1\n",
    "            \n",
    "dic"
   ]
  },
  {
   "cell_type": "markdown",
   "metadata": {},
   "source": [
    "#### Assignment 2"
   ]
  },
  {
   "cell_type": "code",
   "execution_count": null,
   "metadata": {
    "collapsed": true
   },
   "outputs": [],
   "source": [
    "data = data.dropna()\n",
    "df1 = data[[\"Pclass\",\"Fare\",\"Age\",\"Sex\"]].as_matrix()\n",
    "df2 = data[[\"Survived\"]].as_matrix()\n",
    "for i in enumerate(df1.T[3]):\n",
    "    if df1.T[3][i[0]] == \"female\":\n",
    "        df1.T[3][i[0]] = 0\n",
    "    else:\n",
    "        df1.T[3][i[0]] = 1\n",
    "        \n",
    "df1"
   ]
  },
  {
   "cell_type": "code",
   "execution_count": null,
   "metadata": {
    "collapsed": false
   },
   "outputs": [],
   "source": [
    "clf = DecisionTreeClassifier(random_state=241)\n",
    "clf.fit(df1, df2)"
   ]
  },
  {
   "cell_type": "code",
   "execution_count": null,
   "metadata": {
    "collapsed": false
   },
   "outputs": [],
   "source": [
    "importances = clf.feature_importances_\n",
    "importances"
   ]
  },
  {
   "cell_type": "markdown",
   "metadata": {},
   "source": [
    "## Неделя 2"
   ]
  },
  {
   "cell_type": "markdown",
   "metadata": {},
   "source": [
    "#### Assignment 1"
   ]
  },
  {
   "cell_type": "code",
   "execution_count": null,
   "metadata": {
    "collapsed": false
   },
   "outputs": [],
   "source": [
    "wine = pandas.read_csv('wine.data',header=None)"
   ]
  },
  {
   "cell_type": "code",
   "execution_count": null,
   "metadata": {
    "collapsed": false
   },
   "outputs": [],
   "source": [
    "wine.head()"
   ]
  },
  {
   "cell_type": "code",
   "execution_count": null,
   "metadata": {
    "collapsed": false
   },
   "outputs": [],
   "source": [
    "x = np.array(wine[range(1,14)])\n",
    "y = np.ravel(np.array(wine[[0]]))\n",
    "\n",
    "x_sc = preprocessing.scale(x)\n",
    "y_sc = y\n",
    "\n",
    "kf = KFold(y.size,n_folds=5,shuffle=True,random_state=42)\n",
    "dic = {}\n",
    "dic_sc = {}\n",
    "\n",
    "for i in range(1,51):\n",
    "    neigh = KNeighborsClassifier(n_neighbors=i)\n",
    "    neigh_sc = KNeighborsClassifier(n_neighbors=i)\n",
    "    \n",
    "    [neigh.fit(x[train_index], y[train_index]) for train_index, test_index in kf]\n",
    "    [neigh_sc.fit(x_sc[train_index], y_sc[train_index]) for train_index, test_index in kf]\n",
    "    \n",
    "    dic[i] = np.mean(cross_val_score(neigh, x, y, cv=kf, n_jobs=-1))\n",
    "    dic_sc[i] = np.mean(cross_val_score(neigh_sc, x_sc, y_sc, cv=kf, n_jobs=-1))\n",
    "s_dic = sorted(dic.items(), key=itemgetter(1))\n",
    "print s_dic\n",
    "\n",
    "s_dic = sorted(dic_sc.items(), key=itemgetter(1))\n",
    "print s_dic"
   ]
  },
  {
   "cell_type": "markdown",
   "metadata": {},
   "source": [
    "#### Assignment 2"
   ]
  },
  {
   "cell_type": "code",
   "execution_count": null,
   "metadata": {
    "collapsed": false
   },
   "outputs": [],
   "source": [
    "boston = sklearn.datasets.load_boston()\n",
    "x, y = boston.data, boston.target\n",
    "x_sc = preprocessing.scale(x)\n",
    "\n",
    "dic = {}\n",
    "\n",
    "kf = KFold(y.size,n_folds=5,shuffle=True,random_state=42)\n",
    "for i in np.linspace(1,10,num=200):\n",
    "    neigh = KNeighborsRegressor(n_neighbors=5,weights='distance',p=i)\n",
    "    [neigh.fit(x_sc[train_index], y[train_index]) for train_index, test_index in kf]\n",
    "    dic[i] = np.mean(cross_val_score(neigh, x_sc, y, cv=kf, scoring='mean_squared_error', n_jobs=-1))\n",
    "    \n",
    "s_dic = sorted(dic.items(), key=itemgetter(1))\n",
    "print s_dic"
   ]
  },
  {
   "cell_type": "markdown",
   "metadata": {},
   "source": [
    "#### Assignment 3"
   ]
  },
  {
   "cell_type": "code",
   "execution_count": null,
   "metadata": {
    "collapsed": true
   },
   "outputs": [],
   "source": [
    "p_test = pandas.read_csv('perceptron-test.csv',header=None)\n",
    "p_train = pandas.read_csv('perceptron-train.csv',header=None)\n",
    "\n",
    "p_train.head()"
   ]
  },
  {
   "cell_type": "code",
   "execution_count": null,
   "metadata": {
    "collapsed": false
   },
   "outputs": [],
   "source": [
    "x_test = np.array(p_test[range(1,3)])\n",
    "y_test = np.ravel(np.array(p_test[[0]]))\n",
    "x_train = np.array(p_train[range(1,3)])\n",
    "y_train = np.ravel(np.array(p_train[[0]]))\n",
    "\n",
    "clf = Perceptron(random_state=241)\n",
    "res1 = clf.fit(x_train, y_train).score(x_test,y_test)\n",
    "print res1\n",
    "\n",
    "scaler = preprocessing.StandardScaler()\n",
    "X_train_scaled = scaler.fit_transform(x_train)\n",
    "X_test_scaled = scaler.transform(x_test)\n",
    "\n",
    "res2 = clf.fit(X_train_scaled, y_train).score(X_test_scaled,y_test)\n",
    "print res2\n",
    "\n",
    "print res2-res1"
   ]
  },
  {
   "cell_type": "markdown",
   "metadata": {},
   "source": [
    "## Неделя 3"
   ]
  },
  {
   "cell_type": "markdown",
   "metadata": {},
   "source": [
    "#### Assignment 1"
   ]
  },
  {
   "cell_type": "code",
   "execution_count": null,
   "metadata": {
    "collapsed": false
   },
   "outputs": [],
   "source": [
    "svm_dat = pandas.read_csv('svm-data.csv',header=None)\n",
    "svm_dat.head()"
   ]
  },
  {
   "cell_type": "code",
   "execution_count": null,
   "metadata": {
    "collapsed": false
   },
   "outputs": [],
   "source": [
    "x_test = np.array(svm_dat[range(1,3)])\n",
    "y_test = np.ravel(np.array(svm_dat[[0]]))\n",
    "\n",
    "clf = SVC(kernel='linear', C=100000, random_state=241)\n",
    "clf.fit(x_test,y_test).support_"
   ]
  },
  {
   "cell_type": "markdown",
   "metadata": {},
   "source": [
    "#### Assignment 2"
   ]
  },
  {
   "cell_type": "code",
   "execution_count": null,
   "metadata": {
    "collapsed": false
   },
   "outputs": [],
   "source": [
    "from sklearn import datasets\n",
    "\n",
    "newsgroups = datasets.fetch_20newsgroups(\n",
    "                    subset='all', \n",
    "                    categories=['alt.atheism', 'sci.space']\n",
    "             )"
   ]
  },
  {
   "cell_type": "code",
   "execution_count": null,
   "metadata": {
    "collapsed": false
   },
   "outputs": [],
   "source": [
    "y = newsgroups.target\n",
    "\n",
    "from sklearn.feature_extraction.text import TfidfVectorizer\n",
    "vectorizer = TfidfVectorizer(min_df=1)\n",
    "corpus = vectorizer.fit_transform(newsgroups.data)\n",
    "\n",
    "res = {}\n",
    "kf = KFold(y.size,n_folds=5,shuffle=True,random_state=241)\n",
    "\n",
    "for i in np.arange(-5,6,1):\n",
    "    clf = SVC(kernel='linear', C=(10**i), random_state=241)\n",
    "    \n",
    "    [clf.fit(corpus[train_index], y[train_index]) for train_index, test_index in kf]\n",
    "    res[i] = np.mean(cross_val_score(clf, corpus, y, cv=kf, n_jobs=-1))\n",
    "\n",
    "print sorted(res.items(), key=itemgetter(1))"
   ]
  },
  {
   "cell_type": "code",
   "execution_count": null,
   "metadata": {
    "collapsed": false
   },
   "outputs": [],
   "source": [
    "clf = SVC(kernel='linear', C=(10**1), random_state=241)\n",
    "c = clf.fit(corpus, y).coef_.data\n",
    "coef_0 = clf.coef_.toarray()[0]\n",
    "values = abs(coef_0)\n",
    "top10 = np.argsort(values)[-10:]\n",
    "\n",
    "feature_mapping = vectorizer.get_feature_names()\n",
    "\n",
    "words = []\n",
    "for i in range(0,10):\n",
    "    words.append(feature_mapping[top10[i]]) \n",
    "    \n",
    "sorted(words)"
   ]
  },
  {
   "cell_type": "markdown",
   "metadata": {
    "collapsed": false
   },
   "source": [
    "#### Assignment 3"
   ]
  },
  {
   "cell_type": "code",
   "execution_count": 9,
   "metadata": {
    "collapsed": false
   },
   "outputs": [
    {
     "data": {
      "text/html": [
       "<div>\n",
       "<table border=\"1\" class=\"dataframe\">\n",
       "  <thead>\n",
       "    <tr style=\"text-align: right;\">\n",
       "      <th></th>\n",
       "      <th>0</th>\n",
       "      <th>1</th>\n",
       "      <th>2</th>\n",
       "    </tr>\n",
       "  </thead>\n",
       "  <tbody>\n",
       "    <tr>\n",
       "      <th>0</th>\n",
       "      <td>-1</td>\n",
       "      <td>-0.663827</td>\n",
       "      <td>-0.138526</td>\n",
       "    </tr>\n",
       "    <tr>\n",
       "      <th>1</th>\n",
       "      <td>1</td>\n",
       "      <td>1.994596</td>\n",
       "      <td>2.468025</td>\n",
       "    </tr>\n",
       "    <tr>\n",
       "      <th>2</th>\n",
       "      <td>-1</td>\n",
       "      <td>-1.247395</td>\n",
       "      <td>0.749425</td>\n",
       "    </tr>\n",
       "    <tr>\n",
       "      <th>3</th>\n",
       "      <td>1</td>\n",
       "      <td>2.309374</td>\n",
       "      <td>1.899836</td>\n",
       "    </tr>\n",
       "    <tr>\n",
       "      <th>4</th>\n",
       "      <td>1</td>\n",
       "      <td>0.849143</td>\n",
       "      <td>2.407750</td>\n",
       "    </tr>\n",
       "  </tbody>\n",
       "</table>\n",
       "</div>"
      ],
      "text/plain": [
       "   0         1         2\n",
       "0 -1 -0.663827 -0.138526\n",
       "1  1  1.994596  2.468025\n",
       "2 -1 -1.247395  0.749425\n",
       "3  1  2.309374  1.899836\n",
       "4  1  0.849143  2.407750"
      ]
     },
     "execution_count": 9,
     "metadata": {},
     "output_type": "execute_result"
    }
   ],
   "source": [
    "df = pandas.read_csv('data-logistic.csv',header=None)\n",
    "y = np.ravel(np.array(df[[0]]))\n",
    "x1 = np.ravel(np.array(df[[1]]))\n",
    "x2 = np.ravel(np.array(df[[2]]))\n",
    "df.head()"
   ]
  },
  {
   "cell_type": "code",
   "execution_count": 22,
   "metadata": {
    "collapsed": false
   },
   "outputs": [
    {
     "name": "stdout",
     "output_type": "stream",
     "text": [
      "0.287703148281 0.0920836110069\n",
      "0.926857142857\n",
      "0.0285587545462 0.0247801372497\n",
      "0.936285714286\n"
     ]
    }
   ],
   "source": [
    "from sklearn.metrics import roc_auc_score\n",
    "\n",
    "k = 0.1\n",
    "epsilon = 1e-5\n",
    "l = len(y)\n",
    "\n",
    "for C in [0,10]:\n",
    "    w1 = 0.0\n",
    "    w2 = 0.0\n",
    "    iteration = 0\n",
    "    while iteration <= 10000:\n",
    "        w1_new = w1 + k * 1/l * np.sum([y[i]*x1[i]*(1 - 1/(1 + np.exp(-y[i]*(w1*x1[i]+w2*x2[i])))) for i in range(0,l)]) - k*C*w1\n",
    "        w2_new = w2 + k * 1/l * np.sum([y[i]*x2[i]*(1 - 1/(1 + np.exp(-y[i]*(w1*x1[i]+w2*x2[i])))) for i in range(0,l)]) - k*C*w2\n",
    "        \n",
    "        if abs(w1 - w1_new) < epsilon and abs(w2 - w2_new) < epsilon:\n",
    "            w1 = w1_new\n",
    "            w2 = w2_new\n",
    "            break\n",
    "        w1 = w1_new\n",
    "        w2 = w2_new\n",
    "        iteration += 1\n",
    "\n",
    "    print w1,w2\n",
    "    print roc_auc_score(y, [1.0/(1+np.exp(-w1*x - w2*x2[index])) for index,x in enumerate(x1)])"
   ]
  },
  {
   "cell_type": "markdown",
   "metadata": {},
   "source": [
    "#### Assignment 4"
   ]
  },
  {
   "cell_type": "code",
   "execution_count": null,
   "metadata": {
    "collapsed": true
   },
   "outputs": [],
   "source": [
    "scores = pandas.read_csv('scores.csv')\n",
    "classif = pandas.read_csv('classification.csv')\n",
    "classif.head()"
   ]
  },
  {
   "cell_type": "code",
   "execution_count": null,
   "metadata": {
    "collapsed": false
   },
   "outputs": [],
   "source": [
    "y_true = np.ravel(np.array(classif[[0]]))\n",
    "y_pred = np.ravel(np.array(classif[[1]]))\n",
    "\n",
    "TP = 0\n",
    "TN = 0\n",
    "FP = 0\n",
    "FN = 0\n",
    "for i,j in enumerate(y_pred):\n",
    "    if ((j==0) and (j == y_true[i])):\n",
    "        TN+=1\n",
    "    elif ((j==1) and (j == y_true[i])):\n",
    "        TP+=1\n",
    "    elif ((j==1) and (j != y_true[i])):\n",
    "        FN+=1\n",
    "    else:\n",
    "        FP+=1\n",
    "\n",
    "print TP, FP, FN, TN\n",
    "print metrics.confusion_matrix(y_true, y_pred)\n",
    "print \"Accuracy\",metrics.accuracy_score(y_true, y_pred)\n",
    "print \"Precision\",metrics.precision_score(y_true, y_pred)\n",
    "print \"Recall\",metrics.recall_score(y_true, y_pred)\n",
    "print \"F-score\",metrics.f1_score(y_true, y_pred)"
   ]
  },
  {
   "cell_type": "code",
   "execution_count": null,
   "metadata": {
    "collapsed": false
   },
   "outputs": [],
   "source": [
    "scores.head()"
   ]
  },
  {
   "cell_type": "code",
   "execution_count": null,
   "metadata": {
    "collapsed": false
   },
   "outputs": [],
   "source": [
    "y_true = np.ravel(np.array(scores[[0]]))\n",
    "for i in range(1,5):\n",
    "    print \"ROC\",i ,metrics.roc_auc_score(y_true,np.ravel(np.array(scores[[i]])))\n",
    "    prrec = metrics.precision_recall_curve(y_true,np.ravel(np.array(scores[[i]])))\n",
    "    res = []\n",
    "    for index,j in enumerate(prrec[1]):\n",
    "        if j>0.7:\n",
    "            res.append(prrec[0][index])\n",
    "    print sorted(res)[-1]"
   ]
  },
  {
   "cell_type": "markdown",
   "metadata": {
    "collapsed": true
   },
   "source": [
    "## Неделя 4"
   ]
  },
  {
   "cell_type": "markdown",
   "metadata": {},
   "source": [
    "#### Assignment 1"
   ]
  },
  {
   "cell_type": "code",
   "execution_count": null,
   "metadata": {
    "collapsed": false
   },
   "outputs": [],
   "source": [
    "salary = pandas.read_csv('salary-train.csv')\n",
    "s_test = pandas.read_csv('salary-test-mini.csv')\n",
    "salary.head()"
   ]
  },
  {
   "cell_type": "code",
   "execution_count": null,
   "metadata": {
    "collapsed": false
   },
   "outputs": [],
   "source": [
    "salary['FullDescription'] = salary['FullDescription'].apply(lambda x: x.lower())\n",
    "salary['FullDescription'] = salary['FullDescription'].replace('[^a-zA-Z0-9]', ' ', regex = True)\n",
    "\n",
    "from sklearn.feature_extraction.text import TfidfVectorizer\n",
    "vectorizer = TfidfVectorizer(min_df=5)\n",
    "corpus = vectorizer.fit_transform(salary['FullDescription'])\n",
    "\n",
    "test_cor = vectorizer.transform(s_test['FullDescription'])"
   ]
  },
  {
   "cell_type": "code",
   "execution_count": null,
   "metadata": {
    "collapsed": false
   },
   "outputs": [],
   "source": [
    "salary['LocationNormalized'].fillna('nan', inplace=True)\n",
    "salary['ContractTime'].fillna('nan', inplace=True)\n",
    "s_test['LocationNormalized'].fillna('nan', inplace=True)\n",
    "s_test['ContractTime'].fillna('nan', inplace=True)\n",
    "\n",
    "from sklearn.feature_extraction import DictVectorizer\n",
    "enc = DictVectorizer()\n",
    "X_train_categ = enc.fit_transform(salary[['LocationNormalized', 'ContractTime']].to_dict('records'))\n",
    "X_test_categ = enc.transform(s_test[['LocationNormalized', 'ContractTime']].to_dict('records'))\n",
    "\n",
    "s_train = sp.sparse.hstack([corpus,X_train_categ])\n",
    "s_test = sp.sparse.hstack([test_cor,X_test_categ])"
   ]
  },
  {
   "cell_type": "code",
   "execution_count": null,
   "metadata": {
    "collapsed": false
   },
   "outputs": [],
   "source": [
    "from sklearn.linear_model import Ridge\n",
    "clf = Ridge(alpha=1.0,random_state=241)\n",
    "clf.fit(s_train, salary['SalaryNormalized'])\n",
    "\n",
    "clf.predict(s_test)"
   ]
  },
  {
   "cell_type": "markdown",
   "metadata": {
    "collapsed": true
   },
   "source": [
    "#### Assignment 2"
   ]
  },
  {
   "cell_type": "code",
   "execution_count": null,
   "metadata": {
    "collapsed": false
   },
   "outputs": [],
   "source": [
    "price_train = pandas.read_csv('close_prices.csv')\n",
    "price_train.head()"
   ]
  },
  {
   "cell_type": "code",
   "execution_count": null,
   "metadata": {
    "collapsed": false
   },
   "outputs": [],
   "source": [
    "from sklearn.decomposition import PCA\n",
    "pca = PCA(n_components=10)\n",
    "pca.fit(price_train[range(1,31)])\n",
    "pca.explained_variance_ratio_\n",
    "sum = 0\n",
    "for index,i in enumerate(pca.explained_variance_ratio_):\n",
    "    sum += i\n",
    "    print index,sum"
   ]
  },
  {
   "cell_type": "code",
   "execution_count": null,
   "metadata": {
    "collapsed": false
   },
   "outputs": [],
   "source": [
    "trans_train = pca.transform(price_train[range(1,31)])\n",
    "print pca.components_[0] #V"
   ]
  },
  {
   "cell_type": "code",
   "execution_count": null,
   "metadata": {
    "collapsed": false
   },
   "outputs": [],
   "source": [
    "djia = pandas.read_csv('djia_index.csv')\n",
    "djia.head()"
   ]
  },
  {
   "cell_type": "code",
   "execution_count": null,
   "metadata": {
    "collapsed": false
   },
   "outputs": [],
   "source": [
    "np.corrcoef(np.ravel(np.array(djia['^DJI'])),trans_train[:,0])"
   ]
  },
  {
   "cell_type": "markdown",
   "metadata": {
    "collapsed": true
   },
   "source": [
    "## Неделя 5\n",
    "#### Assignment 1"
   ]
  },
  {
   "cell_type": "code",
   "execution_count": null,
   "metadata": {
    "collapsed": false
   },
   "outputs": [],
   "source": [
    "df = pandas.read_csv('abalone.csv')\n",
    "df.head()"
   ]
  },
  {
   "cell_type": "code",
   "execution_count": null,
   "metadata": {
    "collapsed": false
   },
   "outputs": [],
   "source": [
    "df['Sex'] = df['Sex'].map(lambda x: 1 if x == 'M' else (-1 if x == 'F' else 0))"
   ]
  },
  {
   "cell_type": "code",
   "execution_count": null,
   "metadata": {
    "collapsed": false
   },
   "outputs": [],
   "source": [
    "from sklearn.ensemble import RandomForestRegressor\n",
    "from sklearn.metrics import r2_score\n",
    "\n",
    "df_X = np.array(df[range(0,len(df.columns)-1)])\n",
    "df_Y = np.ravel(np.array(df[[len(df.columns)-1]]))\n",
    "\n",
    "result = {}\n",
    "kf = KFold(df_Y.size,n_folds=5,shuffle=True,random_state=1)\n",
    "\n",
    "for i in range(1,51):\n",
    "    clf = RandomForestRegressor(n_estimators=i,random_state=1)\n",
    "    \n",
    "    [clf.fit(df_X[train_index], df_Y[train_index]) for train_index, test_index in kf]\n",
    "    result[i] = np.mean(cross_val_score(clf, df_X, df_Y, cv=kf, scoring='r2'))\n",
    "\n",
    "print sorted(result.items(), key=itemgetter(1))"
   ]
  },
  {
   "cell_type": "markdown",
   "metadata": {
    "collapsed": false
   },
   "source": [
    "#### Assignment 2"
   ]
  },
  {
   "cell_type": "code",
   "execution_count": 23,
   "metadata": {
    "collapsed": false
   },
   "outputs": [
    {
     "name": "stdout",
     "output_type": "stream",
     "text": [
      "      Iter       Train Loss   Remaining Time \n",
      "         1           1.2613           27.23s\n",
      "         2           1.1715           27.49s\n",
      "         3           1.1009           27.56s\n",
      "         4           1.0529           27.31s\n",
      "         5           1.0130           27.17s\n",
      "         6           0.9740           27.32s\n",
      "         7           0.9475           29.23s\n",
      "         8           0.9197           31.20s\n",
      "         9           0.8979           32.28s\n",
      "        10           0.8730           32.40s\n",
      "        20           0.7207           26.95s\n",
      "        30           0.6055           24.20s\n",
      "        40           0.5244           22.40s\n",
      "        50           0.4501           20.91s\n",
      "        60           0.3908           19.60s\n",
      "        70           0.3372           18.69s\n",
      "        80           0.3009           17.60s\n",
      "        90           0.2603           16.46s\n",
      "       100           0.2327           15.32s\n",
      "       200           0.0835            4.96s\n",
      "MIN (36, 0.53091815680290511)\n",
      "MAX (249, 0.65623263022505429)\n",
      "0.54138128618\n"
     ]
    },
    {
     "data": {
      "image/png": "[encoded data removed]",
      "text/plain": [
       "<matplotlib.figure.Figure at 0x114627910>"
      ]
     },
     "metadata": {},
     "output_type": "display_data"
    }
   ],
   "source": [
    "from sklearn.cross_validation import train_test_split\n",
    "import matplotlib.pyplot as plt\n",
    "from sklearn.metrics import log_loss\n",
    "from sklearn.ensemble import GradientBoostingClassifier,RandomForestClassifier\n",
    "%matplotlib inline\n",
    "\n",
    "df = pandas.read_csv('gbm-data.csv')\n",
    "df_X = df[range(1,len(df.columns))].values\n",
    "df_Y = np.ravel(df[[0]].values)\n",
    "\n",
    "X_train, X_test, y_train, y_test = train_test_split(df_X, df_Y, test_size=0.8, random_state=241)\n",
    "\n",
    "rate = [1, 0.5, 0.3, 0.2, 0.1] \n",
    "\n",
    "for i in [0.2]:\n",
    "    clf = GradientBoostingClassifier(n_estimators=250, verbose=True, random_state=241, learning_rate=i)\n",
    "    clf.fit(X_train,y_train)\n",
    "    \n",
    "    y_gen_tr = clf.staged_decision_function(X_train)\n",
    "    y_pred_tr = [1.0/(1+np.exp(-x)) for x in y_gen_tr]\n",
    "    tr_ll = [log_loss(y_train,x) for x in y_pred_tr]\n",
    "    \n",
    "    y_gen_tst = clf.staged_decision_function(X_test)\n",
    "    y_pred_tst = [1.0/(1+np.exp(-x)) for x in y_gen_tst]\n",
    "    tst_ll = [log_loss(y_test,x) for x in y_pred_tst]\n",
    "    \n",
    "    print 'MIN',min(enumerate(tst_ll), key=itemgetter(1))\n",
    "    print 'MAX',max(enumerate(tst_ll), key=itemgetter(1))\n",
    "    \n",
    "    plt.plot(tr_ll, 'r', linewidth=2)\n",
    "    plt.plot(tst_ll, 'g', linewidth=2)\n",
    "    plt.legend(['train', 'test'])\n",
    "    \n",
    "clf = RandomForestClassifier(n_estimators=36,random_state=241)\n",
    "clf.fit(X_train,y_train)\n",
    "print 'RFC',log_loss(y_test, clf.predict_proba(X_test))"
   ]
  },
  {
   "cell_type": "markdown",
   "metadata": {
    "collapsed": true
   },
   "source": [
    "##  Неделя 6\n",
    "#### Assignment 1"
   ]
  },
  {
   "cell_type": "code",
   "execution_count": 111,
   "metadata": {
    "collapsed": false
   },
   "outputs": [],
   "source": [
    "from skimage.io import imread\n",
    "from skimage import img_as_float\n",
    "from sklearn.cluster import KMeans\n",
    "image = img_as_float(imread('parrots.jpg'))\n",
    "\n",
    "kl=11\n",
    "\n",
    "X_train = []\n",
    "for n in image:\n",
    "    for m in n:\n",
    "        X_train.append(m)\n",
    "#X_train = np.column_stack((X_R,X_G,X_B))\n",
    "km = KMeans(n_clusters=kl,init='k-means++',random_state=241)\n",
    "km.fit(X_train)\n",
    "X_train = np.column_stack((X_train,km.predict(X_train)))"
   ]
  },
  {
   "cell_type": "code",
   "execution_count": 112,
   "metadata": {
    "collapsed": false
   },
   "outputs": [
    {
     "name": "stdout",
     "output_type": "stream",
     "text": [
      "[[ 0.03921569  0.60784314  0.00784314  6.        ]\n",
      " [ 0.04705882  0.61568627  0.01568627  6.        ]\n",
      " [ 0.03921569  0.60784314  0.00784314  6.        ]\n",
      " ..., \n",
      " [ 0.19607843  0.6         0.2745098   6.        ]\n",
      " [ 0.23137255  0.61960784  0.29803922  6.        ]\n",
      " [ 0.25098039  0.63137255  0.32156863  6.        ]]\n"
     ]
    }
   ],
   "source": [
    "print X_train[X_train[:,3]==6]"
   ]
  },
  {
   "cell_type": "code",
   "execution_count": 113,
   "metadata": {
    "collapsed": false
   },
   "outputs": [
    {
     "name": "stdout",
     "output_type": "stream",
     "text": [
      "337962\n",
      "[[ 1.18823529  1.20025414]\n",
      " [ 0.03921569  0.13142023]\n",
      " [ 1.51764706  1.55766254]\n",
      " [ 1.84705882  1.82362612]\n",
      " [ 2.43529412  2.43431091]\n",
      " [ 0.77254902  0.79769216]\n",
      " [ 0.89411765  0.95212625]\n",
      " [ 1.51764706  1.51593173]\n",
      " [ 1.70196078  1.70823639]\n",
      " [ 0.89803922  0.93294354]\n",
      " [ 0.48627451  0.54774354]]\n"
     ]
    }
   ],
   "source": [
    "clust_colors = [] #median,mean\n",
    "for i in range(kl):\n",
    "        clust_colors.append([sum([np.median(X_train[X_train[:,3]==i][:,j]) for j in range(3)]),\n",
    "                            sum([X_train[X_train[:,3]==i][:,j].mean() for j in range(3)])])\n",
    "clust_colors = np.array(clust_colors)\n",
    "\n",
    "print X_train.shape[0]\n",
    "print clust_colors#[clust_colors[:,0]==1]  \n",
    "#, X_train[X_train[:,3]==i][:,j].mean()"
   ]
  },
  {
   "cell_type": "code",
   "execution_count": 114,
   "metadata": {
    "collapsed": false
   },
   "outputs": [
    {
     "name": "stdout",
     "output_type": "stream",
     "text": [
      "23.1107018795 23.3578030924\n"
     ]
    }
   ],
   "source": [
    "RSS_med = 0\n",
    "RSS_mean = 0\n",
    "maxI = 0\n",
    "for j in X_train:\n",
    "    I = sum([j[t] for t in range(3)])\n",
    "    if I>maxI: \n",
    "        maxI = I\n",
    "    RSS_med += (I-clust_colors[int(j[3]),0])**2\n",
    "    RSS_mean += (I-clust_colors[int(j[3]),1])**2\n",
    "PSLR_med = 10*np.log10((maxI**2)/(RSS_med/X_train.shape[0]))\n",
    "PSLR_mean = 10*np.log10((maxI**2)/(RSS_mean/X_train.shape[0]))\n",
    "print PSLR_med, PSLR_mean"
   ]
  },
  {
   "cell_type": "code",
   "execution_count": null,
   "metadata": {
    "collapsed": true
   },
   "outputs": [],
   "source": []
  }
 ],
 "metadata": {
  "kernelspec": {
   "display_name": "Python 2",
   "language": "python",
   "name": "python2"
  },
  "language_info": {
   "codemirror_mode": {
    "name": "ipython",
    "version": 2
   },
   "file_extension": ".py",
   "mimetype": "text/x-python",
   "name": "python",
   "nbconvert_exporter": "python",
   "pygments_lexer": "ipython2",
   "version": "2.7.11"
  }
 },
 "nbformat": 4,
 "nbformat_minor": 0
}
