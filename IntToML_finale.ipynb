{
 "cells": [
  {
   "cell_type": "markdown",
   "metadata": {},
   "source": [
    "# Финальное задание\n",
    "### by Egor Makhov. Coursera 2016"
   ]
  },
  {
   "cell_type": "code",
   "execution_count": 13,
   "metadata": {
    "collapsed": true
   },
   "outputs": [],
   "source": [
    "import pandas\n",
    "import numpy as np\n",
    "import scipy as sp\n",
    "import time\n",
    "import datetime\n",
    "\n",
    "from operator import itemgetter\n",
    "from sklearn.cross_validation import KFold, cross_val_score\n",
    "from sklearn.ensemble import GradientBoostingClassifier\n",
    "from sklearn.linear_model import LogisticRegression\n",
    "\n",
    "import matplotlib.pyplot as plt "
   ]
  },
  {
   "cell_type": "markdown",
   "metadata": {},
   "source": [
    "---\n",
    "Загрузка данных"
   ]
  },
  {
   "cell_type": "code",
   "execution_count": 6,
   "metadata": {
    "collapsed": false
   },
   "outputs": [],
   "source": [
    "features = pandas.read_csv('./features.csv', index_col='match_id')\n",
    "features_test = pandas.read_csv('./features_test.csv', index_col='match_id')"
   ]
  },
  {
   "cell_type": "code",
   "execution_count": 4,
   "metadata": {
    "collapsed": false
   },
   "outputs": [
    {
     "data": {
      "text/plain": [
       "1"
      ]
     },
     "execution_count": 4,
     "metadata": {},
     "output_type": "execute_result"
    }
   ],
   "source": []
  },
  {
   "cell_type": "markdown",
   "metadata": {},
   "source": [
    "---\n",
    "### Подход 1: градиентный бустинг \"в лоб\"\n",
    "\n",
    "radiant_win - целевая переменная"
   ]
  },
  {
   "cell_type": "code",
   "execution_count": 76,
   "metadata": {
    "collapsed": false
   },
   "outputs": [
    {
     "data": {
      "text/html": [
       "<div>\n",
       "<table border=\"1\" class=\"dataframe\">\n",
       "  <thead>\n",
       "    <tr style=\"text-align: right;\">\n",
       "      <th></th>\n",
       "      <th>start_time</th>\n",
       "      <th>lobby_type</th>\n",
       "      <th>r1_hero</th>\n",
       "      <th>r1_level</th>\n",
       "      <th>r1_xp</th>\n",
       "      <th>r1_gold</th>\n",
       "      <th>r1_lh</th>\n",
       "      <th>r1_kills</th>\n",
       "      <th>r1_deaths</th>\n",
       "      <th>r1_items</th>\n",
       "      <th>...</th>\n",
       "      <th>radiant_ward_sentry_count</th>\n",
       "      <th>radiant_first_ward_time</th>\n",
       "      <th>dire_bottle_time</th>\n",
       "      <th>dire_courier_time</th>\n",
       "      <th>dire_flying_courier_time</th>\n",
       "      <th>dire_tpscroll_count</th>\n",
       "      <th>dire_boots_count</th>\n",
       "      <th>dire_ward_observer_count</th>\n",
       "      <th>dire_ward_sentry_count</th>\n",
       "      <th>dire_first_ward_time</th>\n",
       "    </tr>\n",
       "    <tr>\n",
       "      <th>match_id</th>\n",
       "      <th></th>\n",
       "      <th></th>\n",
       "      <th></th>\n",
       "      <th></th>\n",
       "      <th></th>\n",
       "      <th></th>\n",
       "      <th></th>\n",
       "      <th></th>\n",
       "      <th></th>\n",
       "      <th></th>\n",
       "      <th></th>\n",
       "      <th></th>\n",
       "      <th></th>\n",
       "      <th></th>\n",
       "      <th></th>\n",
       "      <th></th>\n",
       "      <th></th>\n",
       "      <th></th>\n",
       "      <th></th>\n",
       "      <th></th>\n",
       "      <th></th>\n",
       "    </tr>\n",
       "  </thead>\n",
       "  <tbody>\n",
       "    <tr>\n",
       "      <th>0</th>\n",
       "      <td>1430198770</td>\n",
       "      <td>7</td>\n",
       "      <td>11</td>\n",
       "      <td>5</td>\n",
       "      <td>2098</td>\n",
       "      <td>1489</td>\n",
       "      <td>20</td>\n",
       "      <td>0</td>\n",
       "      <td>0</td>\n",
       "      <td>7</td>\n",
       "      <td>...</td>\n",
       "      <td>0</td>\n",
       "      <td>35</td>\n",
       "      <td>103</td>\n",
       "      <td>-84</td>\n",
       "      <td>221</td>\n",
       "      <td>3</td>\n",
       "      <td>4</td>\n",
       "      <td>2</td>\n",
       "      <td>2</td>\n",
       "      <td>-52</td>\n",
       "    </tr>\n",
       "    <tr>\n",
       "      <th>1</th>\n",
       "      <td>1430220345</td>\n",
       "      <td>0</td>\n",
       "      <td>42</td>\n",
       "      <td>4</td>\n",
       "      <td>1188</td>\n",
       "      <td>1033</td>\n",
       "      <td>9</td>\n",
       "      <td>0</td>\n",
       "      <td>1</td>\n",
       "      <td>12</td>\n",
       "      <td>...</td>\n",
       "      <td>0</td>\n",
       "      <td>-20</td>\n",
       "      <td>149</td>\n",
       "      <td>-84</td>\n",
       "      <td>195</td>\n",
       "      <td>5</td>\n",
       "      <td>4</td>\n",
       "      <td>3</td>\n",
       "      <td>1</td>\n",
       "      <td>-5</td>\n",
       "    </tr>\n",
       "    <tr>\n",
       "      <th>2</th>\n",
       "      <td>1430227081</td>\n",
       "      <td>7</td>\n",
       "      <td>33</td>\n",
       "      <td>4</td>\n",
       "      <td>1319</td>\n",
       "      <td>1270</td>\n",
       "      <td>22</td>\n",
       "      <td>0</td>\n",
       "      <td>0</td>\n",
       "      <td>12</td>\n",
       "      <td>...</td>\n",
       "      <td>1</td>\n",
       "      <td>-39</td>\n",
       "      <td>45</td>\n",
       "      <td>-77</td>\n",
       "      <td>221</td>\n",
       "      <td>3</td>\n",
       "      <td>4</td>\n",
       "      <td>3</td>\n",
       "      <td>1</td>\n",
       "      <td>13</td>\n",
       "    </tr>\n",
       "    <tr>\n",
       "      <th>3</th>\n",
       "      <td>1430263531</td>\n",
       "      <td>1</td>\n",
       "      <td>29</td>\n",
       "      <td>4</td>\n",
       "      <td>1779</td>\n",
       "      <td>1056</td>\n",
       "      <td>14</td>\n",
       "      <td>0</td>\n",
       "      <td>0</td>\n",
       "      <td>5</td>\n",
       "      <td>...</td>\n",
       "      <td>0</td>\n",
       "      <td>-30</td>\n",
       "      <td>124</td>\n",
       "      <td>-80</td>\n",
       "      <td>184</td>\n",
       "      <td>0</td>\n",
       "      <td>4</td>\n",
       "      <td>2</td>\n",
       "      <td>0</td>\n",
       "      <td>27</td>\n",
       "    </tr>\n",
       "    <tr>\n",
       "      <th>4</th>\n",
       "      <td>1430282290</td>\n",
       "      <td>7</td>\n",
       "      <td>13</td>\n",
       "      <td>4</td>\n",
       "      <td>1431</td>\n",
       "      <td>1090</td>\n",
       "      <td>8</td>\n",
       "      <td>1</td>\n",
       "      <td>0</td>\n",
       "      <td>8</td>\n",
       "      <td>...</td>\n",
       "      <td>0</td>\n",
       "      <td>46</td>\n",
       "      <td>182</td>\n",
       "      <td>-80</td>\n",
       "      <td>225</td>\n",
       "      <td>6</td>\n",
       "      <td>3</td>\n",
       "      <td>3</td>\n",
       "      <td>0</td>\n",
       "      <td>-16</td>\n",
       "    </tr>\n",
       "  </tbody>\n",
       "</table>\n",
       "<p>5 rows × 102 columns</p>\n",
       "</div>"
      ],
      "text/plain": [
       "          start_time  lobby_type  r1_hero  r1_level  r1_xp  r1_gold  r1_lh  \\\n",
       "match_id                                                                     \n",
       "0         1430198770           7       11         5   2098     1489     20   \n",
       "1         1430220345           0       42         4   1188     1033      9   \n",
       "2         1430227081           7       33         4   1319     1270     22   \n",
       "3         1430263531           1       29         4   1779     1056     14   \n",
       "4         1430282290           7       13         4   1431     1090      8   \n",
       "\n",
       "          r1_kills  r1_deaths  r1_items          ...           \\\n",
       "match_id                                         ...            \n",
       "0                0          0         7          ...            \n",
       "1                0          1        12          ...            \n",
       "2                0          0        12          ...            \n",
       "3                0          0         5          ...            \n",
       "4                1          0         8          ...            \n",
       "\n",
       "          radiant_ward_sentry_count  radiant_first_ward_time  \\\n",
       "match_id                                                       \n",
       "0                                 0                       35   \n",
       "1                                 0                      -20   \n",
       "2                                 1                      -39   \n",
       "3                                 0                      -30   \n",
       "4                                 0                       46   \n",
       "\n",
       "          dire_bottle_time  dire_courier_time  dire_flying_courier_time  \\\n",
       "match_id                                                                  \n",
       "0                      103                -84                       221   \n",
       "1                      149                -84                       195   \n",
       "2                       45                -77                       221   \n",
       "3                      124                -80                       184   \n",
       "4                      182                -80                       225   \n",
       "\n",
       "          dire_tpscroll_count  dire_boots_count  dire_ward_observer_count  \\\n",
       "match_id                                                                    \n",
       "0                           3                 4                         2   \n",
       "1                           5                 4                         3   \n",
       "2                           3                 4                         3   \n",
       "3                           0                 4                         2   \n",
       "4                           6                 3                         3   \n",
       "\n",
       "          dire_ward_sentry_count  dire_first_ward_time  \n",
       "match_id                                                \n",
       "0                              2                   -52  \n",
       "1                              1                    -5  \n",
       "2                              1                    13  \n",
       "3                              0                    27  \n",
       "4                              0                   -16  \n",
       "\n",
       "[5 rows x 102 columns]"
      ]
     },
     "execution_count": 76,
     "metadata": {},
     "output_type": "execute_result"
    }
   ],
   "source": [
    "y_train = np.ravel(np.array(features[['radiant_win']])) #target feature\n",
    "features = features.drop(features.loc[:,'duration':'barracks_status_dire'],axis=1)\n",
    "features.head()"
   ]
  },
  {
   "cell_type": "markdown",
   "metadata": {},
   "source": [
    "Поиск столбцов с пропусками"
   ]
  },
  {
   "cell_type": "code",
   "execution_count": 77,
   "metadata": {
    "collapsed": false
   },
   "outputs": [
    {
     "name": "stdout",
     "output_type": "stream",
     "text": [
      "first_blood_time\n",
      "first_blood_team\n",
      "first_blood_player1\n",
      "first_blood_player2\n",
      "radiant_bottle_time\n",
      "radiant_courier_time\n",
      "radiant_flying_courier_time\n",
      "radiant_first_ward_time\n",
      "dire_bottle_time\n",
      "dire_courier_time\n",
      "dire_flying_courier_time\n",
      "dire_first_ward_time\n"
     ]
    }
   ],
   "source": [
    "for i in xrange(len(features.columns)):\n",
    "    if (features[[i]].isnull().sum()[0]!=0):\n",
    "        print features.columns[i]\n",
    "features = features.fillna(0)\n",
    "\n",
    "X_train = np.array(features[range(2,len(features.columns))]) # - match_id - start_time"
   ]
  },
  {
   "cell_type": "markdown",
   "metadata": {},
   "source": [
    "first_blood_time: За первые 5 минут не было совершено убийств\n",
    "\n",
    "radiant_courier_time: За первые 5 минут никто не купил курьера\n",
    "\n",
    "radiant_flying_courier_time: За первые 5 минут никто не улучшил курьера"
   ]
  },
  {
   "cell_type": "code",
   "execution_count": 5,
   "metadata": {
    "collapsed": false
   },
   "outputs": [],
   "source": [
    "# Градиентный бустинг с [10,20,30] деревьями\n",
    "kf = KFold(y_train.size,n_folds=5,shuffle=True)\n",
    "\n",
    "result = {}\n",
    "for i in [10,20,30]:\n",
    "    clf = GradientBoostingClassifier(n_estimators=i)\n",
    "    clf.fit(X_train,y_train)\n",
    "    result[i] = np.mean(cross_val_score(clf, X_train,y_train, cv=kf, scoring='roc_auc'))"
   ]
  },
  {
   "cell_type": "code",
   "execution_count": 6,
   "metadata": {
    "collapsed": false
   },
   "outputs": [
    {
     "name": "stdout",
     "output_type": "stream",
     "text": [
      "{10: 0.66446223377751701, 20: 0.68177691030524079, 30: 0.68954600478277883}\n"
     ]
    }
   ],
   "source": [
    "print result"
   ]
  },
  {
   "cell_type": "code",
   "execution_count": 7,
   "metadata": {
    "collapsed": false
   },
   "outputs": [
    {
     "name": "stdout",
     "output_type": "stream",
     "text": [
      "Time elapsed: 0:03:46.682773\n",
      "Time elapsed: 0:04:23.848519\n",
      "Time elapsed: 0:04:59.234498\n",
      "Time elapsed: 0:04:14.695353\n",
      "Time elapsed: 0:04:33.539044\n",
      "Time elapsed: 0:04:18.175560\n",
      "{32: 0.69057333797368192, 33: 0.69094800701755887, 34: 0.69159500819772479, 35: 0.69220640200144268, 30: 0.68954600478277883, 31: 0.69011361282927464}\n"
     ]
    }
   ],
   "source": [
    "# Замер времени + поиск лучших решений\n",
    "result = {}\n",
    "for i in xrange(30,36):\n",
    "    start_time = datetime.datetime.now()\n",
    "    clf = GradientBoostingClassifier(n_estimators=i)\n",
    "    clf.fit(X_train,y_train)\n",
    "    result[i] = np.mean(cross_val_score(clf, X_train,y_train, cv=kf, scoring='roc_auc'))\n",
    "    print 'Time elapsed:', datetime.datetime.now() - start_time\n",
    "print result"
   ]
  },
  {
   "cell_type": "markdown",
   "metadata": {},
   "source": [
    "---\n",
    "### Подход 2: логистическая регрессия"
   ]
  },
  {
   "cell_type": "code",
   "execution_count": 8,
   "metadata": {
    "collapsed": false,
    "scrolled": true
   },
   "outputs": [
    {
     "name": "stdout",
     "output_type": "stream",
     "text": [
      "Time elapsed: 0:02:27.662202\n",
      "Time elapsed: 0:02:33.941543\n",
      "Time elapsed: 0:02:16.197572\n",
      "Time elapsed: 0:02:15.050582\n",
      "Time elapsed: 0:02:11.960402\n",
      "Time elapsed: 0:02:10.612949\n",
      "Time elapsed: 0:02:23.997805\n",
      "Time elapsed: 0:02:06.600298\n",
      "Time elapsed: 0:02:25.794981\n",
      "{0.5: 0.71644341412194523, 0.20000000000000001: 0.71639411146383236, 0.40000000000000002: 0.71641434968743944, 0.80000000000000004: 0.71648084508444077, 0.30000000000000004: 0.71642757606099639, 0.59999999999999998: 0.71646239584765192, 0.10000000000000001: 0.71640000383094704, 0.90000000000000002: 0.71644129611923568, 0.70000000000000007: 0.71640885460231929}\n"
     ]
    }
   ],
   "source": [
    "# Логистическая со всеми переменными\n",
    "result = {}\n",
    "for i in np.arange(0.1,1.0,0.1):\n",
    "    start_time = datetime.datetime.now()\n",
    "    clf = LogisticRegression(penalty='l2',C=i)\n",
    "    clf.fit(X_train,y_train)\n",
    "    result[i] = np.mean(cross_val_score(clf, X_train,y_train, cv=kf, scoring='roc_auc'))\n",
    "    print 'Time elapsed:', datetime.datetime.now() - start_time\n",
    "print result"
   ]
  },
  {
   "cell_type": "code",
   "execution_count": 78,
   "metadata": {
    "collapsed": false
   },
   "outputs": [
    {
     "data": {
      "text/html": [
       "<div>\n",
       "<table border=\"1\" class=\"dataframe\">\n",
       "  <thead>\n",
       "    <tr style=\"text-align: right;\">\n",
       "      <th></th>\n",
       "      <th>start_time</th>\n",
       "      <th>r1_level</th>\n",
       "      <th>r1_xp</th>\n",
       "      <th>r1_gold</th>\n",
       "      <th>r1_lh</th>\n",
       "      <th>r1_kills</th>\n",
       "      <th>r1_deaths</th>\n",
       "      <th>r1_items</th>\n",
       "      <th>r2_level</th>\n",
       "      <th>r2_xp</th>\n",
       "      <th>...</th>\n",
       "      <th>radiant_ward_sentry_count</th>\n",
       "      <th>radiant_first_ward_time</th>\n",
       "      <th>dire_bottle_time</th>\n",
       "      <th>dire_courier_time</th>\n",
       "      <th>dire_flying_courier_time</th>\n",
       "      <th>dire_tpscroll_count</th>\n",
       "      <th>dire_boots_count</th>\n",
       "      <th>dire_ward_observer_count</th>\n",
       "      <th>dire_ward_sentry_count</th>\n",
       "      <th>dire_first_ward_time</th>\n",
       "    </tr>\n",
       "    <tr>\n",
       "      <th>match_id</th>\n",
       "      <th></th>\n",
       "      <th></th>\n",
       "      <th></th>\n",
       "      <th></th>\n",
       "      <th></th>\n",
       "      <th></th>\n",
       "      <th></th>\n",
       "      <th></th>\n",
       "      <th></th>\n",
       "      <th></th>\n",
       "      <th></th>\n",
       "      <th></th>\n",
       "      <th></th>\n",
       "      <th></th>\n",
       "      <th></th>\n",
       "      <th></th>\n",
       "      <th></th>\n",
       "      <th></th>\n",
       "      <th></th>\n",
       "      <th></th>\n",
       "      <th></th>\n",
       "    </tr>\n",
       "  </thead>\n",
       "  <tbody>\n",
       "    <tr>\n",
       "      <th>0</th>\n",
       "      <td>1430198770</td>\n",
       "      <td>5</td>\n",
       "      <td>2098</td>\n",
       "      <td>1489</td>\n",
       "      <td>20</td>\n",
       "      <td>0</td>\n",
       "      <td>0</td>\n",
       "      <td>7</td>\n",
       "      <td>3</td>\n",
       "      <td>842</td>\n",
       "      <td>...</td>\n",
       "      <td>0</td>\n",
       "      <td>35</td>\n",
       "      <td>103</td>\n",
       "      <td>-84</td>\n",
       "      <td>221</td>\n",
       "      <td>3</td>\n",
       "      <td>4</td>\n",
       "      <td>2</td>\n",
       "      <td>2</td>\n",
       "      <td>-52</td>\n",
       "    </tr>\n",
       "    <tr>\n",
       "      <th>1</th>\n",
       "      <td>1430220345</td>\n",
       "      <td>4</td>\n",
       "      <td>1188</td>\n",
       "      <td>1033</td>\n",
       "      <td>9</td>\n",
       "      <td>0</td>\n",
       "      <td>1</td>\n",
       "      <td>12</td>\n",
       "      <td>4</td>\n",
       "      <td>1596</td>\n",
       "      <td>...</td>\n",
       "      <td>0</td>\n",
       "      <td>-20</td>\n",
       "      <td>149</td>\n",
       "      <td>-84</td>\n",
       "      <td>195</td>\n",
       "      <td>5</td>\n",
       "      <td>4</td>\n",
       "      <td>3</td>\n",
       "      <td>1</td>\n",
       "      <td>-5</td>\n",
       "    </tr>\n",
       "    <tr>\n",
       "      <th>2</th>\n",
       "      <td>1430227081</td>\n",
       "      <td>4</td>\n",
       "      <td>1319</td>\n",
       "      <td>1270</td>\n",
       "      <td>22</td>\n",
       "      <td>0</td>\n",
       "      <td>0</td>\n",
       "      <td>12</td>\n",
       "      <td>3</td>\n",
       "      <td>1314</td>\n",
       "      <td>...</td>\n",
       "      <td>1</td>\n",
       "      <td>-39</td>\n",
       "      <td>45</td>\n",
       "      <td>-77</td>\n",
       "      <td>221</td>\n",
       "      <td>3</td>\n",
       "      <td>4</td>\n",
       "      <td>3</td>\n",
       "      <td>1</td>\n",
       "      <td>13</td>\n",
       "    </tr>\n",
       "    <tr>\n",
       "      <th>3</th>\n",
       "      <td>1430263531</td>\n",
       "      <td>4</td>\n",
       "      <td>1779</td>\n",
       "      <td>1056</td>\n",
       "      <td>14</td>\n",
       "      <td>0</td>\n",
       "      <td>0</td>\n",
       "      <td>5</td>\n",
       "      <td>2</td>\n",
       "      <td>539</td>\n",
       "      <td>...</td>\n",
       "      <td>0</td>\n",
       "      <td>-30</td>\n",
       "      <td>124</td>\n",
       "      <td>-80</td>\n",
       "      <td>184</td>\n",
       "      <td>0</td>\n",
       "      <td>4</td>\n",
       "      <td>2</td>\n",
       "      <td>0</td>\n",
       "      <td>27</td>\n",
       "    </tr>\n",
       "    <tr>\n",
       "      <th>4</th>\n",
       "      <td>1430282290</td>\n",
       "      <td>4</td>\n",
       "      <td>1431</td>\n",
       "      <td>1090</td>\n",
       "      <td>8</td>\n",
       "      <td>1</td>\n",
       "      <td>0</td>\n",
       "      <td>8</td>\n",
       "      <td>2</td>\n",
       "      <td>629</td>\n",
       "      <td>...</td>\n",
       "      <td>0</td>\n",
       "      <td>46</td>\n",
       "      <td>182</td>\n",
       "      <td>-80</td>\n",
       "      <td>225</td>\n",
       "      <td>6</td>\n",
       "      <td>3</td>\n",
       "      <td>3</td>\n",
       "      <td>0</td>\n",
       "      <td>-16</td>\n",
       "    </tr>\n",
       "  </tbody>\n",
       "</table>\n",
       "<p>5 rows × 91 columns</p>\n",
       "</div>"
      ],
      "text/plain": [
       "          start_time  r1_level  r1_xp  r1_gold  r1_lh  r1_kills  r1_deaths  \\\n",
       "match_id                                                                     \n",
       "0         1430198770         5   2098     1489     20         0          0   \n",
       "1         1430220345         4   1188     1033      9         0          1   \n",
       "2         1430227081         4   1319     1270     22         0          0   \n",
       "3         1430263531         4   1779     1056     14         0          0   \n",
       "4         1430282290         4   1431     1090      8         1          0   \n",
       "\n",
       "          r1_items  r2_level  r2_xp          ...           \\\n",
       "match_id                                     ...            \n",
       "0                7         3    842          ...            \n",
       "1               12         4   1596          ...            \n",
       "2               12         3   1314          ...            \n",
       "3                5         2    539          ...            \n",
       "4                8         2    629          ...            \n",
       "\n",
       "          radiant_ward_sentry_count  radiant_first_ward_time  \\\n",
       "match_id                                                       \n",
       "0                                 0                       35   \n",
       "1                                 0                      -20   \n",
       "2                                 1                      -39   \n",
       "3                                 0                      -30   \n",
       "4                                 0                       46   \n",
       "\n",
       "          dire_bottle_time  dire_courier_time  dire_flying_courier_time  \\\n",
       "match_id                                                                  \n",
       "0                      103                -84                       221   \n",
       "1                      149                -84                       195   \n",
       "2                       45                -77                       221   \n",
       "3                      124                -80                       184   \n",
       "4                      182                -80                       225   \n",
       "\n",
       "          dire_tpscroll_count  dire_boots_count  dire_ward_observer_count  \\\n",
       "match_id                                                                    \n",
       "0                           3                 4                         2   \n",
       "1                           5                 4                         3   \n",
       "2                           3                 4                         3   \n",
       "3                           0                 4                         2   \n",
       "4                           6                 3                         3   \n",
       "\n",
       "          dire_ward_sentry_count  dire_first_ward_time  \n",
       "match_id                                                \n",
       "0                              2                   -52  \n",
       "1                              1                    -5  \n",
       "2                              1                    13  \n",
       "3                              0                    27  \n",
       "4                              0                   -16  \n",
       "\n",
       "[5 rows x 91 columns]"
      ]
     },
     "execution_count": 78,
     "metadata": {},
     "output_type": "execute_result"
    }
   ],
   "source": [
    "# Удаляем категоральные признаки\n",
    "heroes = features.loc[:,['r1_hero','r2_hero','r3_hero','r4_hero','r5_hero',\n",
    "                         'd1_hero','d2_hero','d3_hero','d4_hero','d5_hero']]\n",
    "features = features.drop(['lobby_type','r1_hero','r2_hero','r3_hero','r4_hero','r5_hero',\n",
    "                         'd1_hero','d2_hero','d3_hero','d4_hero','d5_hero'],axis=1)\n",
    "X_train = np.array(features[range(2,len(features.columns))])\n",
    "features.head()"
   ]
  },
  {
   "cell_type": "code",
   "execution_count": 11,
   "metadata": {
    "collapsed": false
   },
   "outputs": [
    {
     "name": "stdout",
     "output_type": "stream",
     "text": [
      "Time elapsed: 0:01:46.465352\n",
      "Time elapsed: 0:01:55.342489\n",
      "Time elapsed: 0:01:41.572286\n",
      "Time elapsed: 0:01:29.400960\n",
      "Time elapsed: 0:01:48.169154\n",
      "Time elapsed: 0:01:52.525588\n",
      "Time elapsed: 0:01:54.193830\n",
      "Time elapsed: 0:01:56.582918\n",
      "Time elapsed: 0:01:41.283717\n",
      "{0.5: 0.71641256252893259, 0.20000000000000001: 0.71646023621715382, 0.40000000000000002: 0.71649828752840716, 0.80000000000000004: 0.71646700986675893, 0.30000000000000004: 0.71648344231841243, 0.59999999999999998: 0.71644646400194811, 0.10000000000000001: 0.71649338960799924, 0.90000000000000002: 0.71649879459942745, 0.70000000000000007: 0.71644133487270278}\n"
     ]
    }
   ],
   "source": [
    "# Логистическая без категоральных\n",
    "result = {}\n",
    "for i in np.arange(0.1,1.0,0.1):\n",
    "    start_time = datetime.datetime.now()\n",
    "    clf = LogisticRegression(penalty='l2',C=i)\n",
    "    clf.fit(X_train,y_train)\n",
    "    result[i] = np.mean(cross_val_score(clf, X_train,y_train, cv=kf, scoring='roc_auc'))\n",
    "    print 'Time elapsed:', datetime.datetime.now() - start_time\n",
    "print result"
   ]
  },
  {
   "cell_type": "code",
   "execution_count": 79,
   "metadata": {
    "collapsed": false
   },
   "outputs": [],
   "source": [
    "# Создаем мешок слов по героям\n",
    "uni_heroes = pandas.Series(heroes.values.ravel()).unique()\n",
    "\n",
    "N = len(uni_heroes) # 108\n",
    "X_pick = np.zeros((heroes.shape[0], N))\n",
    "\n",
    "for i, match_id in enumerate(heroes.index):\n",
    "    for p in xrange(5):\n",
    "        X_pick[i, np.where(uni_heroes == heroes.ix[match_id, 'r%d_hero' % (p+1)])[0][0]] = 1\n",
    "        X_pick[i, np.where(uni_heroes == heroes.ix[match_id, 'd%d_hero' % (p+1)])[0][0]] = -1"
   ]
  },
  {
   "cell_type": "code",
   "execution_count": 80,
   "metadata": {
    "collapsed": false
   },
   "outputs": [],
   "source": [
    "X_train = np.hstack([X_train,X_pick])"
   ]
  },
  {
   "cell_type": "code",
   "execution_count": 69,
   "metadata": {
    "collapsed": false
   },
   "outputs": [
    {
     "name": "stdout",
     "output_type": "stream",
     "text": [
      "Time elapsed: 0:04:26.994628\n",
      "Time elapsed: 0:04:38.102621\n",
      "Time elapsed: 0:05:19.696014\n",
      "Time elapsed: 0:06:12.722243\n",
      "Time elapsed: 0:05:43.551478\n",
      "Time elapsed: 0:06:07.060200\n",
      "Time elapsed: 0:05:19.445010\n",
      "Time elapsed: 0:05:11.522042\n",
      "Time elapsed: 0:06:10.405744\n",
      "{0.5: 0.75176149182344898, 0.20000000000000001: 0.75177082281883456, 0.40000000000000002: 0.75178583833052648, 0.80000000000000004: 0.75181176198153099, 0.30000000000000004: 0.75175626958299502, 0.59999999999999998: 0.75177740248573866, 0.10000000000000001: 0.75177716098027825, 0.90000000000000002: 0.7517692855867758, 0.70000000000000007: 0.75177644953867984}\n"
     ]
    }
   ],
   "source": [
    "# Логистическая с мешком слов\n",
    "result = {}\n",
    "for i in np.arange(0.1,1.0,0.1):\n",
    "    start_time = datetime.datetime.now()\n",
    "    clf = LogisticRegression(penalty='l2',C=i)\n",
    "    clf.fit(X_train,y_train)\n",
    "    result[i] = np.mean(cross_val_score(clf, X_train,y_train, cv=kf, scoring='roc_auc'))\n",
    "    print 'Time elapsed:', datetime.datetime.now() - start_time\n",
    "print result"
   ]
  },
  {
   "cell_type": "code",
   "execution_count": 85,
   "metadata": {
    "collapsed": false
   },
   "outputs": [
    {
     "data": {
      "text/plain": [
       "LogisticRegression(C=0.8, class_weight=None, dual=False, fit_intercept=True,\n",
       "          intercept_scaling=1, max_iter=100, multi_class='ovr', n_jobs=1,\n",
       "          penalty='l2', random_state=None, solver='liblinear', tol=0.0001,\n",
       "          verbose=0, warm_start=False)"
      ]
     },
     "execution_count": 85,
     "metadata": {},
     "output_type": "execute_result"
    }
   ],
   "source": [
    "# Best model training\n",
    "clf = LogisticRegression(penalty='l2',C=0.8)\n",
    "clf.fit(X_train,y_train)"
   ]
  },
  {
   "cell_type": "code",
   "execution_count": 100,
   "metadata": {
    "collapsed": false
   },
   "outputs": [],
   "source": [
    "# Test data preprocessing\n",
    "features_test = features_test.fillna(0)\n",
    "heroes_test = features_test.loc[:,['r1_hero','r2_hero','r3_hero','r4_hero','r5_hero',\n",
    "                                   'd1_hero','d2_hero','d3_hero','d4_hero','d5_hero']]\n",
    "features_test = features_test.drop(['lobby_type','r1_hero','r2_hero','r3_hero','r4_hero','r5_hero',\n",
    "                         'd1_hero','d2_hero','d3_hero','d4_hero','d5_hero'],axis=1)\n",
    "\n",
    "X_pick = np.zeros((heroes_test.shape[0], N))\n",
    "\n",
    "for i, match_id in enumerate(heroes_test.index):\n",
    "    for p in xrange(5):\n",
    "        X_pick[i, np.where(uni_heroes == heroes_test.ix[match_id, 'r%d_hero' % (p+1)])[0][0]] = 1\n",
    "        X_pick[i, np.where(uni_heroes == heroes_test.ix[match_id, 'd%d_hero' % (p+1)])[0][0]] = -1\n",
    "X_test = np.array(features_test[range(2,len(features_test.columns))])\n",
    "X_test = np.hstack([X_test,X_pick])"
   ]
  },
  {
   "cell_type": "code",
   "execution_count": 101,
   "metadata": {
    "collapsed": false
   },
   "outputs": [
    {
     "name": "stdout",
     "output_type": "stream",
     "text": [
      "0.996637288586\n",
      "0.00829230830628\n"
     ]
    }
   ],
   "source": [
    "# Final result\n",
    "print clf.predict_proba(X_test)[:, 1].max()\n",
    "print clf.predict_proba(X_test)[:, 1].min()"
   ]
  },
  {
   "cell_type": "markdown",
   "metadata": {},
   "source": [
    "---\n",
    "### Ответы \n",
    "\n",
    "Вопрос 1 \n",
    "first_blood_time\n",
    "first_blood_team\n",
    "first_blood_player1\n",
    "first_blood_player2\n",
    "radiant_bottle_time\n",
    "radiant_courier_time\n",
    "radiant_flying_courier_time\n",
    "radiant_first_ward_time\n",
    "dire_bottle_time\n",
    "dire_courier_time\n",
    "dire_flying_courier_time\n",
    "dire_first_ward_time\n",
    "\n",
    "first_blood_time: За первые 5 минут не было совершено убийств\n",
    "radiant_courier_time: За первые 5 минут никто не купил курьера\n",
    "\n",
    "Вопрос 2\n",
    "radiant_win - целевая переменная\n",
    "\n",
    "Вопрос 3\n",
    "Time elapsed: 0:03:46.682773\n",
    "30: 0.68954600478277883\n",
    "\n",
    "Вопрос 4\n",
    "Не имеет, так как качество растет не особо быстро и возникает шанс переобучения.\n",
    "Чтобы ускорить можно уменьшить количество входных данных (брать только экстремумы), а так же настраивать распределение задач по ядрам процессора"
   ]
  },
  {
   "cell_type": "markdown",
   "metadata": {},
   "source": [
    "Вопрос 1\n",
    "0.71648084508444077 при С=0.8\n",
    "Качество заметно лучше по сравнению с градиентным бустингом. Это объясняется тем, что градиентный логистическая регрессия более эффективна как класс алгоритмов для такого типа задач. При этом не стоит забывать, что градиентный бустинг легче настраивать.\n",
    "Time elapsed: 0:02:06.600298 \n",
    "Следовательно, логистическая регрессия на тех же данных работает быстрее.\n",
    "\n",
    "Вопрос 2.\n",
    "Качество почти не изменилось. Это объясняется тем, что логистическая регрессия сама по себе игнорирует категориальные признаки, давая и малый вес в общей модели. Однако, скорость подсчета увеличилась из-за общего снижения кол-ва данных.\n",
    "\n",
    "Вопрос 3.\n",
    "108 различных идентификаторов героев.\n",
    "По крайней мере в предоставленных данных.\n",
    "\n",
    "Вопрос 4.\n",
    "0.75181176198153099\n",
    "Качество улучшилось. Это объясняется принципом работы логистической регрессии. Мы разбили на 108 признаков и у каждого есть свой вес, теперь наши бывшие категориальные признаки оказывают большее влияние на предсказание.\n",
    "Стоит заметить, что скорость заметно снизилась.\n",
    "Time elapsed: 0:05:11.522042\n",
    "\n",
    "Вопрос 5.\n",
    "макс 0.996637288586\n",
    "мин 0.00829230830628"
   ]
  },
  {
   "cell_type": "code",
   "execution_count": null,
   "metadata": {
    "collapsed": true
   },
   "outputs": [],
   "source": []
  }
 ],
 "metadata": {
  "kernelspec": {
   "display_name": "Python 2",
   "language": "python",
   "name": "python2"
  },
  "language_info": {
   "codemirror_mode": {
    "name": "ipython",
    "version": 2
   },
   "file_extension": ".py",
   "mimetype": "text/x-python",
   "name": "python",
   "nbconvert_exporter": "python",
   "pygments_lexer": "ipython2",
   "version": "2.7.11"
  }
 },
 "nbformat": 4,
 "nbformat_minor": 0
}
